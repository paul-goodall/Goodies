{
 "cells": [
  {
   "cell_type": "markdown",
   "id": "9626da43-b86b-42c6-afbf-e2833a9581be",
   "metadata": {},
   "source": [
    "# Goodsy Magic Python Library - A Reference\n",
    "\n",
    "Note - all required modules for this library have been installed on the `py10kernel` kernel.  If you use a different kernel you may have some installing to do."
   ]
  },
  {
   "cell_type": "code",
   "execution_count": 1,
   "id": "1fc3d494-6847-4794-a3ac-8c1f2863e96a",
   "metadata": {},
   "outputs": [],
   "source": [
    "import sys\n",
    "sys.path.append('/Volumes/Abyss/Dropbox/my_DataScience/Repos/Goodies/')\n",
    "from goodsy_python import magic as gm"
   ]
  },
  {
   "cell_type": "code",
   "execution_count": null,
   "id": "c4e81cbf-88da-4dc6-af36-8166cc9c3403",
   "metadata": {},
   "outputs": [],
   "source": []
  },
  {
   "cell_type": "code",
   "execution_count": null,
   "id": "0d40022a-d7d6-42e3-91e1-91cabd976e5f",
   "metadata": {},
   "outputs": [],
   "source": []
  },
  {
   "cell_type": "code",
   "execution_count": null,
   "id": "3f3faf13-1059-4de2-8bcd-8b0f1606ae4e",
   "metadata": {},
   "outputs": [],
   "source": []
  },
  {
   "cell_type": "markdown",
   "id": "ab14f29d-023d-4f9e-ad60-5ed0a20008e5",
   "metadata": {},
   "source": [
    "## Dates"
   ]
  },
  {
   "cell_type": "code",
   "execution_count": null,
   "id": "c95435f0-f284-46f0-b791-035d46fc49a0",
   "metadata": {},
   "outputs": [],
   "source": [
    "\n",
    "\n",
    "gm.date_info_df('2025-02-04')\n",
    "\n",
    "import pandas as pd\n",
    "\n",
    "aa = pd.DataFrame({'Dt':['2025-02-04','2025-02-05']}, index=[0,1])\n",
    "aa['Dt2'] = pd.to_datetime(aa.Dt, format=\"%Y-%m-%d\")\n",
    "gm.create_useful_dates(aa['Dt2'])"
   ]
  },
  {
   "cell_type": "code",
   "execution_count": null,
   "id": "cd9aba26-404d-468e-b3d4-9660957dd378",
   "metadata": {},
   "outputs": [],
   "source": []
  }
 ],
 "metadata": {
  "kernelspec": {
   "display_name": "py10kernel",
   "language": "python",
   "name": "py10kernel"
  },
  "language_info": {
   "codemirror_mode": {
    "name": "ipython",
    "version": 3
   },
   "file_extension": ".py",
   "mimetype": "text/x-python",
   "name": "python",
   "nbconvert_exporter": "python",
   "pygments_lexer": "ipython3",
   "version": "3.10.14"
  }
 },
 "nbformat": 4,
 "nbformat_minor": 5
}
