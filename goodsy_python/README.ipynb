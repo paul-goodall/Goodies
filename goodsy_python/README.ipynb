{
 "cells": [
  {
   "cell_type": "markdown",
   "id": "9626da43-b86b-42c6-afbf-e2833a9581be",
   "metadata": {},
   "source": [
    "# Goodsy Magic Python Library - A Reference\n",
    "\n",
    "Note - all required modules for this library have been installed on the `py10kernel` kernel.  If you use a different kernel you may have some installing to do."
   ]
  },
  {
   "cell_type": "code",
   "execution_count": 19,
   "id": "1fc3d494-6847-4794-a3ac-8c1f2863e96a",
   "metadata": {},
   "outputs": [],
   "source": [
    "import sys\n",
    "import subprocess\n",
    "\n",
    "goodies_dir = '/Path/To/Goodies/Repo/'\n",
    "goodies_dir = subprocess.check_output(['pwd']).decode().replace('goodsy_python\\n','')\n",
    "\n",
    "sys.path.append(goodies_dir)\n",
    "\n",
    "from goodsy_python import magic as gm"
   ]
  },
  {
   "cell_type": "code",
   "execution_count": null,
   "id": "3f3faf13-1059-4de2-8bcd-8b0f1606ae4e",
   "metadata": {},
   "outputs": [],
   "source": []
  },
  {
   "cell_type": "markdown",
   "id": "ab14f29d-023d-4f9e-ad60-5ed0a20008e5",
   "metadata": {},
   "source": [
    "## Dates"
   ]
  },
  {
   "cell_type": "markdown",
   "id": "55f14c90-5cbc-45ae-b91f-61ef9e0729fd",
   "metadata": {},
   "source": [
    "### date_info_df\n",
    "\n",
    "This function can be called on a single date-like string or on a pandas series:"
   ]
  },
  {
   "cell_type": "code",
   "execution_count": 20,
   "id": "0b06ee30-7da5-49c4-ac42-247392ea79e7",
   "metadata": {},
   "outputs": [
    {
     "data": {
      "text/html": [
       "<div>\n",
       "<style scoped>\n",
       "    .dataframe tbody tr th:only-of-type {\n",
       "        vertical-align: middle;\n",
       "    }\n",
       "\n",
       "    .dataframe tbody tr th {\n",
       "        vertical-align: top;\n",
       "    }\n",
       "\n",
       "    .dataframe thead th {\n",
       "        text-align: right;\n",
       "    }\n",
       "</style>\n",
       "<table border=\"1\" class=\"dataframe\">\n",
       "  <thead>\n",
       "    <tr style=\"text-align: right;\">\n",
       "      <th></th>\n",
       "      <th>WeekDay</th>\n",
       "      <th>Year</th>\n",
       "      <th>Month</th>\n",
       "      <th>DayOfMonth</th>\n",
       "      <th>DOM</th>\n",
       "      <th>DayOfYear</th>\n",
       "      <th>DOY</th>\n",
       "      <th>DaysInYear</th>\n",
       "      <th>NumericDate</th>\n",
       "      <th>DayName_1stJan</th>\n",
       "      <th>WeekOfYear</th>\n",
       "      <th>WOY</th>\n",
       "    </tr>\n",
       "  </thead>\n",
       "  <tbody>\n",
       "    <tr>\n",
       "      <th>0</th>\n",
       "      <td>Tuesday</td>\n",
       "      <td>2025</td>\n",
       "      <td>2</td>\n",
       "      <td>4</td>\n",
       "      <td>4</td>\n",
       "      <td>35</td>\n",
       "      <td>35</td>\n",
       "      <td>365</td>\n",
       "      <td>2025.094521</td>\n",
       "      <td>Wednesday</td>\n",
       "      <td>6</td>\n",
       "      <td>6</td>\n",
       "    </tr>\n",
       "  </tbody>\n",
       "</table>\n",
       "</div>"
      ],
      "text/plain": [
       "   WeekDay  Year  Month  DayOfMonth  DOM  DayOfYear  DOY  DaysInYear  \\\n",
       "0  Tuesday  2025      2           4    4         35   35         365   \n",
       "\n",
       "   NumericDate DayName_1stJan  WeekOfYear  WOY  \n",
       "0  2025.094521      Wednesday           6    6  "
      ]
     },
     "execution_count": 20,
     "metadata": {},
     "output_type": "execute_result"
    }
   ],
   "source": [
    "gm.date_info_df('2025-02-04')"
   ]
  },
  {
   "cell_type": "code",
   "execution_count": 22,
   "id": "c95435f0-f284-46f0-b791-035d46fc49a0",
   "metadata": {},
   "outputs": [
    {
     "name": "stdout",
     "output_type": "stream",
     "text": [
      "           Dt\n",
      "0  2021-02-03\n",
      "1  2022-03-04\n",
      "2  2023-04-05\n",
      "3  2024-05-06\n"
     ]
    },
    {
     "data": {
      "text/html": [
       "<div>\n",
       "<style scoped>\n",
       "    .dataframe tbody tr th:only-of-type {\n",
       "        vertical-align: middle;\n",
       "    }\n",
       "\n",
       "    .dataframe tbody tr th {\n",
       "        vertical-align: top;\n",
       "    }\n",
       "\n",
       "    .dataframe thead th {\n",
       "        text-align: right;\n",
       "    }\n",
       "</style>\n",
       "<table border=\"1\" class=\"dataframe\">\n",
       "  <thead>\n",
       "    <tr style=\"text-align: right;\">\n",
       "      <th></th>\n",
       "      <th>WeekDay</th>\n",
       "      <th>Year</th>\n",
       "      <th>Month</th>\n",
       "      <th>DayOfMonth</th>\n",
       "      <th>DOM</th>\n",
       "      <th>DayOfYear</th>\n",
       "      <th>DOY</th>\n",
       "      <th>DaysInYear</th>\n",
       "      <th>NumericDate</th>\n",
       "      <th>DayName_1stJan</th>\n",
       "      <th>WeekOfYear</th>\n",
       "      <th>WOY</th>\n",
       "    </tr>\n",
       "  </thead>\n",
       "  <tbody>\n",
       "    <tr>\n",
       "      <th>0</th>\n",
       "      <td>Wednesday</td>\n",
       "      <td>2021</td>\n",
       "      <td>2</td>\n",
       "      <td>3</td>\n",
       "      <td>3</td>\n",
       "      <td>34</td>\n",
       "      <td>34</td>\n",
       "      <td>365</td>\n",
       "      <td>2021.091781</td>\n",
       "      <td>Friday</td>\n",
       "      <td>6</td>\n",
       "      <td>6</td>\n",
       "    </tr>\n",
       "    <tr>\n",
       "      <th>1</th>\n",
       "      <td>Friday</td>\n",
       "      <td>2022</td>\n",
       "      <td>3</td>\n",
       "      <td>4</td>\n",
       "      <td>4</td>\n",
       "      <td>63</td>\n",
       "      <td>63</td>\n",
       "      <td>365</td>\n",
       "      <td>2022.171233</td>\n",
       "      <td>Saturday</td>\n",
       "      <td>10</td>\n",
       "      <td>10</td>\n",
       "    </tr>\n",
       "    <tr>\n",
       "      <th>2</th>\n",
       "      <td>Wednesday</td>\n",
       "      <td>2023</td>\n",
       "      <td>4</td>\n",
       "      <td>5</td>\n",
       "      <td>5</td>\n",
       "      <td>95</td>\n",
       "      <td>95</td>\n",
       "      <td>365</td>\n",
       "      <td>2023.258904</td>\n",
       "      <td>Sunday</td>\n",
       "      <td>15</td>\n",
       "      <td>15</td>\n",
       "    </tr>\n",
       "    <tr>\n",
       "      <th>3</th>\n",
       "      <td>Monday</td>\n",
       "      <td>2024</td>\n",
       "      <td>5</td>\n",
       "      <td>6</td>\n",
       "      <td>6</td>\n",
       "      <td>127</td>\n",
       "      <td>127</td>\n",
       "      <td>366</td>\n",
       "      <td>2024.345628</td>\n",
       "      <td>Monday</td>\n",
       "      <td>19</td>\n",
       "      <td>19</td>\n",
       "    </tr>\n",
       "  </tbody>\n",
       "</table>\n",
       "</div>"
      ],
      "text/plain": [
       "     WeekDay  Year  Month  DayOfMonth  DOM  DayOfYear  DOY  DaysInYear  \\\n",
       "0  Wednesday  2021      2           3    3         34   34         365   \n",
       "1     Friday  2022      3           4    4         63   63         365   \n",
       "2  Wednesday  2023      4           5    5         95   95         365   \n",
       "3     Monday  2024      5           6    6        127  127         366   \n",
       "\n",
       "   NumericDate DayName_1stJan  WeekOfYear  WOY  \n",
       "0  2021.091781         Friday           6    6  \n",
       "1  2022.171233       Saturday          10   10  \n",
       "2  2023.258904         Sunday          15   15  \n",
       "3  2024.345628         Monday          19   19  "
      ]
     },
     "execution_count": 22,
     "metadata": {},
     "output_type": "execute_result"
    }
   ],
   "source": [
    "import pandas as pd\n",
    "\n",
    "df = pd.DataFrame({'Dt':['2021-02-03','2022-03-04','2023-04-05','2024-05-06']}, index=[0,1,2,3])\n",
    "print(df)\n",
    "\n",
    "gm.date_info_df(df['Dt'])"
   ]
  },
  {
   "cell_type": "code",
   "execution_count": null,
   "id": "cd9aba26-404d-468e-b3d4-9660957dd378",
   "metadata": {},
   "outputs": [],
   "source": []
  }
 ],
 "metadata": {
  "kernelspec": {
   "display_name": "py10kernel",
   "language": "python",
   "name": "py10kernel"
  },
  "language_info": {
   "codemirror_mode": {
    "name": "ipython",
    "version": 3
   },
   "file_extension": ".py",
   "mimetype": "text/x-python",
   "name": "python",
   "nbconvert_exporter": "python",
   "pygments_lexer": "ipython3",
   "version": "3.10.14"
  }
 },
 "nbformat": 4,
 "nbformat_minor": 5
}
